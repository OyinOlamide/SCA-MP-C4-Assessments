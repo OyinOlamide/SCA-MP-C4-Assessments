{
  "nbformat": 4,
  "nbformat_minor": 0,
  "metadata": {
    "colab": {
      "name": "Guess the number.ipynb",
      "provenance": [],
      "collapsed_sections": [],
      "authorship_tag": "ABX9TyN0hCLrhhh8jc6DAQMp4gAr",
      "include_colab_link": true
    },
    "kernelspec": {
      "name": "python3",
      "display_name": "Python 3"
    }
  },
  "cells": [
    {
      "cell_type": "markdown",
      "metadata": {
        "id": "view-in-github",
        "colab_type": "text"
      },
      "source": [
        "<a href=\"https://colab.research.google.com/github/OyinOlamide/SCA-MP-C4-Assessments/blob/main/Guess_the_number.ipynb\" target=\"_parent\"><img src=\"https://colab.research.google.com/assets/colab-badge.svg\" alt=\"Open In Colab\"/></a>"
      ]
    },
    {
      "cell_type": "code",
      "metadata": {
        "id": "4H_BGkVQ8piG"
      },
      "source": [
        "import random"
      ],
      "execution_count": null,
      "outputs": []
    },
    {
      "cell_type": "code",
      "metadata": {
        "id": "OfncW458m2Ht"
      },
      "source": [
        "from random import randint"
      ],
      "execution_count": null,
      "outputs": []
    },
    {
      "cell_type": "code",
      "metadata": {
        "id": "zN448EWQJaGJ"
      },
      "source": [
        "def guess_the_num():\r\n",
        "  player = int(input(\"Guess the number! :-)\"))\r\n",
        "  number = randint(0, 20)\r\n",
        "  if player == number:\r\n",
        "    print(\"You guessed right! Great job.\")\r\n",
        "  elif player <= 10:\r\n",
        "    print(\"Your guess is too low, try again\")\r\n",
        "    print(\"The correct number is \",number)\r\n",
        "  else:\r\n",
        "    print(\"Your guess is too high, try again\")\r\n",
        "    print(\"The correct number is \",number)"
      ],
      "execution_count": null,
      "outputs": []
    }
  ]
}