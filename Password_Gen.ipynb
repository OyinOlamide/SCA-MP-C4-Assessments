{
  "nbformat": 4,
  "nbformat_minor": 0,
  "metadata": {
    "colab": {
      "name": "Password Gen.ipynb",
      "provenance": [],
      "authorship_tag": "ABX9TyOa9ojvvjBiwazRKgx0SxaY",
      "include_colab_link": true
    },
    "kernelspec": {
      "name": "python3",
      "display_name": "Python 3"
    }
  },
  "cells": [
    {
      "cell_type": "markdown",
      "metadata": {
        "id": "view-in-github",
        "colab_type": "text"
      },
      "source": [
        "<a href=\"https://colab.research.google.com/github/OyinOlamide/SCA-MP-C4-Assessments/blob/main/Password_Gen.ipynb\" target=\"_parent\"><img src=\"https://colab.research.google.com/assets/colab-badge.svg\" alt=\"Open In Colab\"/></a>"
      ]
    },
    {
      "cell_type": "markdown",
      "metadata": {
        "id": "07lndFjP4TT7"
      },
      "source": [
        "IMPORT NEEDED PACKAGES"
      ]
    },
    {
      "cell_type": "code",
      "metadata": {
        "id": "4wVUo0UN4Nld"
      },
      "source": [
        "import random"
      ],
      "execution_count": 77,
      "outputs": []
    },
    {
      "cell_type": "code",
      "metadata": {
        "id": "ctT5zpvH4XBp"
      },
      "source": [
        "import string"
      ],
      "execution_count": 78,
      "outputs": []
    },
    {
      "cell_type": "code",
      "metadata": {
        "id": "1cV_mb9r4fUK"
      },
      "source": [
        "def password_gen():\r\n",
        "  length = int(input(\"Enter your preferred length for password\"))\r\n",
        "  if length >= 6:\r\n",
        "    letters = int(input(\"How many letters would you like your password to contain?\"))\r\n",
        "    numbers  = int(input(\"How many numbers would you like your password to contain?\"))\r\n",
        "    alphabets = string.ascii_letters\r\n",
        "    digits = string.digits\r\n",
        "    symbs = string.punctuation\r\n",
        "    characters = alphabets + digits + symbs\r\n",
        "    preferred_alphabets = random.sample(alphabets, k=letters)\r\n",
        "    preferred_nums = random.choices(digits, k=numbers)\r\n",
        "    char_length = preferred_alphabets + preferred_nums\r\n",
        "    symbs_length = length - len(preferred_alphabets+preferred_nums)\r\n",
        "    preferred_symbs = random.sample(symbs, k=symbs_length)\r\n",
        "    from random import sample\r\n",
        "    password_characters = preferred_alphabets + preferred_nums + preferred_symbs\r\n",
        "    password = \"\".join(password_characters)\r\n",
        "    print(password)\r\n",
        "  else:\r\n",
        "    print(\"Password can not be less than 6 characters\")"
      ],
      "execution_count": 90,
      "outputs": []
    },
    {
      "cell_type": "code",
      "metadata": {
        "colab": {
          "base_uri": "https://localhost:8080/"
        },
        "id": "0EFowXJ8D_Or",
        "outputId": "f58e653e-5ddb-4874-eb61-a7eca77ffddf"
      },
      "source": [
        "password_gen()"
      ],
      "execution_count": 91,
      "outputs": [
        {
          "output_type": "stream",
          "text": [
            "Enter your preferred length for password14\n",
            "How many letters would you like your password to contain?4\n",
            "How many numbers would you like your password to contain?4\n",
            "QMDr3158(&=@!)\n"
          ],
          "name": "stdout"
        }
      ]
    }
  ]
}